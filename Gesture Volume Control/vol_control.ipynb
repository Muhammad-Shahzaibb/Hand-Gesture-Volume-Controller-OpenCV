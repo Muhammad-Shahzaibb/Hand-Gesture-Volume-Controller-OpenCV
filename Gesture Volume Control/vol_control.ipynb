{
 "cells": [
  {
   "cell_type": "code",
   "execution_count": 3,
   "metadata": {},
   "outputs": [],
   "source": [
    "import numpy as np\n",
    "import cv2\n",
    "import mediapipe as mp\n",
    "import time\n",
    "import math"
   ]
  },
  {
   "cell_type": "code",
   "execution_count": 1,
   "metadata": {},
   "outputs": [
    {
     "name": "stdout",
     "output_type": "stream",
     "text": [
      "Volume Range: (-63.5, 0.0, 0.5)\n"
     ]
    }
   ],
   "source": [
    "import comtypes\n",
    "from ctypes import cast,POINTER\n",
    "from comtypes import CLSCTX_ALL\n",
    "from pycaw.pycaw import AudioUtilities,IAudioEndpointVolume\n",
    "\n",
    "comtypes.CoInitialize()\n",
    "\n",
    "devices = AudioUtilities.GetSpeakers()\n",
    "interface = devices.Activate(IAudioEndpointVolume._iid_, CLSCTX_ALL, None)\n",
    "\n",
    "volume = cast(interface, POINTER(IAudioEndpointVolume))\n",
    "\n",
    "    # Now you can use volume control methods here\n",
    "volume_range = volume.GetVolumeRange()\n",
    "print(f\"Volume Range: {volume_range}\")\n",
    "min_vol = volume_range[0]\n",
    "max_vol = volume_range[1]\n",
    "\n",
    "comtypes.CoUninitialize()"
   ]
  },
  {
   "cell_type": "code",
   "execution_count": 4,
   "metadata": {},
   "outputs": [
    {
     "name": "stderr",
     "output_type": "stream",
     "text": [
      "c:\\Users\\Shahzaib\\AppData\\Local\\Programs\\Python\\Python312\\Lib\\site-packages\\google\\protobuf\\symbol_database.py:55: UserWarning: SymbolDatabase.GetPrototype() is deprecated. Please use message_factory.GetMessageClass() instead. SymbolDatabase.GetPrototype() will be removed soon.\n",
      "  warnings.warn('SymbolDatabase.GetPrototype() is deprecated. Please '\n"
     ]
    }
   ],
   "source": [
    "mp_hands = mp.solutions.hands\n",
    "mp_drawing = mp.solutions.drawing_utils\n",
    "mp_drawing_styles = mp.solutions.drawing_styles\n",
    "\n",
    "hands = mp_hands.Hands(static_image_mode=True, min_detection_confidence=0.5)\n",
    "\n",
    "Cam_width,Cam_height= 1200,1000\n",
    "\n",
    "cap = cv2.VideoCapture(0)\n",
    "cap.set(3,Cam_width)\n",
    "cap.set(4,Cam_height)\n",
    "\n",
    "previous_Time=0\n",
    "vol=0\n",
    "vol_percentage=0\n",
    "vol_bar=400\n",
    "ret,frame = cap.read()\n",
    "while ret:\n",
    "\n",
    "    current_time = time.time()\n",
    "    fps = 1/(current_time-previous_Time)\n",
    "    previous_Time=current_time\n",
    "\n",
    "    cv2.putText(frame,f'FPS : {int(fps)}',(40,70),cv2.FONT_HERSHEY_COMPLEX_SMALL,2,(255,0,0),3)\n",
    "\n",
    "    frame_rgb = cv2.cvtColor(frame, cv2.COLOR_BGR2RGB)\n",
    "\n",
    "    results = hands.process(frame_rgb)\n",
    "    if results.multi_hand_landmarks:\n",
    "        for hand_landmarks in results.multi_hand_landmarks:\n",
    "            mp_drawing.draw_landmarks(\n",
    "                frame,  # image to draw\n",
    "                hand_landmarks,  # model output\n",
    "                mp_hands.HAND_CONNECTIONS,  # hand connections\n",
    "                mp_drawing_styles.get_default_hand_landmarks_style(),\n",
    "                mp_drawing_styles.get_default_hand_connections_style()\n",
    "            )\n",
    "        h, w, c = frame.shape  # get frame dimensions\n",
    "\n",
    "        # Thumb (landmark 4) and index finger (landmark 8) landmarks\n",
    "        x1, y1 = int(hand_landmarks.landmark[4].x * w), int(hand_landmarks.landmark[4].y * h)\n",
    "        x2, y2 = int(hand_landmarks.landmark[8].x * w), int(hand_landmarks.landmark[8].y * h)\n",
    "\n",
    "\n",
    "        cv2.circle(frame,(x1,y1),15,(255,0,255),cv2.FILLED)\n",
    "        cv2.circle(frame,(x2,y2),15,(255,0,255),cv2.FILLED)\n",
    "        cv2.line(frame,(x1,y1),(x2,y2),(255,0,255),3)\n",
    "\n",
    "        cx,cy= (x1+x2)//2,(y1+y2)//2     # Centre of line to put another circle in centre\n",
    "        cv2.circle(frame,(cx,cy),15,(255,0,255),cv2.FILLED)\n",
    "\n",
    "        # Now based on the length of line we can change our volume\n",
    "        length = math.hypot(x2-x1,y2-y1)\n",
    "        # print(length)       # our max length is around 180 and min length is around 40\n",
    "\n",
    "        vol = np.interp(length,[40,180],[min_vol,max_vol])\n",
    "        vol_bar = np.interp(length,[40,180],[400,150])\n",
    "        vol_percentage = np.interp(length,[40,180],[0,100])\n",
    "        # print(int(length),vol)\n",
    "        volume.SetMasterVolumeLevel(vol,None)\n",
    "\n",
    "        if length<40:\n",
    "            cv2.circle(frame,(cx,cy),15,(0,255,0),cv2.FILLED)\n",
    "\n",
    "    cv2.rectangle(frame,(40,150),(85,400),(0,255,0),3)\n",
    "    cv2.rectangle(frame,(40,int(vol_bar)),(85,400),(0,255,0),cv2.FILLED)\n",
    "    cv2.putText(frame,f'Vol : {int(vol_percentage)} %',(40,450),cv2.FONT_HERSHEY_COMPLEX_SMALL,2,(255,0,0),3)\n",
    "\n",
    "    cv2.imshow('Frame',frame)\n",
    "    if cv2.waitKey(10) & 0xFF == ord('q'):      \n",
    "        break\n",
    "\n",
    "    ret,frame = cap.read()\n",
    "\n",
    "cap.release()\n",
    "cv2.destroyAllWindows()\n",
    "        \n"
   ]
  }
 ],
 "metadata": {
  "kernelspec": {
   "display_name": "Python 3",
   "language": "python",
   "name": "python3"
  },
  "language_info": {
   "codemirror_mode": {
    "name": "ipython",
    "version": 3
   },
   "file_extension": ".py",
   "mimetype": "text/x-python",
   "name": "python",
   "nbconvert_exporter": "python",
   "pygments_lexer": "ipython3",
   "version": "3.12.3"
  }
 },
 "nbformat": 4,
 "nbformat_minor": 2
}
